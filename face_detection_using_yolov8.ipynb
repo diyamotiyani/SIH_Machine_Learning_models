{
 "cells": [
  {
   "cell_type": "markdown",
   "metadata": {
    "execution": {
     "iopub.execute_input": "2023-07-14T06:54:05.713645Z",
     "iopub.status.busy": "2023-07-14T06:54:05.711169Z",
     "iopub.status.idle": "2023-07-14T06:54:05.909408Z",
     "shell.execute_reply": "2023-07-14T06:54:05.908463Z",
     "shell.execute_reply.started": "2023-07-14T06:54:05.713605Z"
    }
   },
   "source": [
    "# Let's build a human-face detector using state-of-the-art YOLOv8"
   ]
  },
  {
   "cell_type": "code",
   "execution_count": null,
   "metadata": {
    "execution": {
     "iopub.execute_input": "2023-08-04T16:21:14.216255Z",
     "iopub.status.busy": "2023-08-04T16:21:14.215685Z",
     "iopub.status.idle": "2023-08-04T16:21:15.002785Z",
     "shell.execute_reply": "2023-08-04T16:21:15.001862Z",
     "shell.execute_reply.started": "2023-08-04T16:21:14.216212Z"
    }
   },
   "outputs": [],
   "source": [
    "# Importing necessary libraries\n",
    "import os\n",
    "import numpy as np\n",
    "import pandas as pd\n",
    "import shutil\n",
    "import cv2\n",
    "import random\n",
    "import matplotlib.pyplot as plt\n",
    "import copy\n",
    "import wandb"
   ]
  },
  {
   "cell_type": "markdown",
   "metadata": {},
   "source": [
    "You will need a unique API key to log in to Weights & Biases. \n",
    "\n",
    "1. If you don't have a Weights & Biases account, you can go to https://wandb.ai/site and create a FREE account.\n",
    "2. Access your API key: https://wandb.ai/authorize.\n",
    "\n",
    "There are two ways you can login using a Kaggle kernel:\n",
    "\n",
    "1. Run a cell with `wandb.login()`. It will ask for the API key, which you can copy + paste in.\n",
    "2. You can also use Kaggle secrets to store your API key and use the code snippet below to login. Check out this [discussion post](https://www.kaggle.com/product-feedback/114053) to learn more about Kaggle secrets. \n",
    "\n"
   ]
  },
  {
   "cell_type": "code",
   "execution_count": null,
   "metadata": {
    "execution": {
     "iopub.execute_input": "2023-08-04T16:21:39.83638Z",
     "iopub.status.busy": "2023-08-04T16:21:39.835613Z",
     "iopub.status.idle": "2023-08-04T16:21:40.089595Z",
     "shell.execute_reply": "2023-08-04T16:21:40.088614Z",
     "shell.execute_reply.started": "2023-08-04T16:21:39.836342Z"
    }
   },
   "outputs": [],
   "source": [
    "from kaggle_secrets import UserSecretsClient\n",
    "user_secrets = UserSecretsClient()\n",
    "secret_value_0 = user_secrets.get_secret(\"wandb_api\")"
   ]
  },
  {
   "cell_type": "code",
   "execution_count": null,
   "metadata": {
    "execution": {
     "iopub.execute_input": "2023-08-04T16:21:40.915601Z",
     "iopub.status.busy": "2023-08-04T16:21:40.914626Z",
     "iopub.status.idle": "2023-08-04T16:21:46.433973Z",
     "shell.execute_reply": "2023-08-04T16:21:46.433024Z",
     "shell.execute_reply.started": "2023-08-04T16:21:40.915556Z"
    }
   },
   "outputs": [],
   "source": [
    "wandb.login(key=secret_value_0)"
   ]
  },
  {
   "cell_type": "markdown",
   "metadata": {},
   "source": [
    "#### Defining some variables which will be needed later"
   ]
  },
  {
   "cell_type": "code",
   "execution_count": null,
   "metadata": {
    "execution": {
     "iopub.execute_input": "2023-08-04T16:21:51.852263Z",
     "iopub.status.busy": "2023-08-04T16:21:51.851637Z",
     "iopub.status.idle": "2023-08-04T16:21:51.857328Z",
     "shell.execute_reply": "2023-08-04T16:21:51.856212Z",
     "shell.execute_reply.started": "2023-08-04T16:21:51.852226Z"
    }
   },
   "outputs": [],
   "source": [
    "bs=' ' # blank-space\n",
    "class_id=0 # id for face\n",
    "newline='\\n' # new line character\n",
    "extension='.txt' # extension for text file"
   ]
  },
  {
   "cell_type": "markdown",
   "metadata": {},
   "source": [
    "##### Separating paths for training, validation and test datasets for both images and labels"
   ]
  },
  {
   "cell_type": "code",
   "execution_count": null,
   "metadata": {
    "execution": {
     "iopub.execute_input": "2023-08-04T16:21:52.638994Z",
     "iopub.status.busy": "2023-08-04T16:21:52.638596Z",
     "iopub.status.idle": "2023-08-04T16:21:52.64596Z",
     "shell.execute_reply": "2023-08-04T16:21:52.644472Z",
     "shell.execute_reply.started": "2023-08-04T16:21:52.638959Z"
    }
   },
   "outputs": [],
   "source": [
    "# Creating paths for separate images and labels\n",
    "curr_path=os.getcwd()\n",
    "imgtrainpath = os.path.join(curr_path,'images','train')\n",
    "imgvalpath=os.path.join(curr_path,'images','validation')\n",
    "imgtestpath=os.path.join(curr_path,'images','test')\n",
    "\n",
    "labeltrainpath=os.path.join(curr_path,'labels','train')\n",
    "labelvalpath=os.path.join(curr_path,'labels','validation')\n",
    "labeltestpath=os.path.join(curr_path,'labels','test')"
   ]
  },
  {
   "cell_type": "markdown",
   "metadata": {},
   "source": [
    "##### Labels path is where all labels will be stored first before dividing them in train, validation and test"
   ]
  },
  {
   "cell_type": "code",
   "execution_count": null,
   "metadata": {
    "execution": {
     "iopub.execute_input": "2023-08-04T16:21:56.255607Z",
     "iopub.status.busy": "2023-08-04T16:21:56.254599Z",
     "iopub.status.idle": "2023-08-04T16:21:56.260839Z",
     "shell.execute_reply": "2023-08-04T16:21:56.25979Z",
     "shell.execute_reply.started": "2023-08-04T16:21:56.255561Z"
    }
   },
   "outputs": [],
   "source": [
    "# Defining data path and labels_path\n",
    "data_path='/kaggle/input/human-faces-object-detection'\n",
    "labels_path = os.path.join(curr_path, 'face_labels')\n"
   ]
  },
  {
   "cell_type": "code",
   "execution_count": null,
   "metadata": {
    "execution": {
     "iopub.execute_input": "2023-08-04T16:21:59.064289Z",
     "iopub.status.busy": "2023-08-04T16:21:59.063588Z",
     "iopub.status.idle": "2023-08-04T16:21:59.070185Z",
     "shell.execute_reply": "2023-08-04T16:21:59.068882Z",
     "shell.execute_reply.started": "2023-08-04T16:21:59.064254Z"
    }
   },
   "outputs": [],
   "source": [
    "# Creating labels path\n",
    "os.makedirs(labels_path)"
   ]
  },
  {
   "cell_type": "markdown",
   "metadata": {},
   "source": [
    "# Checking Input data"
   ]
  },
  {
   "cell_type": "code",
   "execution_count": null,
   "metadata": {
    "execution": {
     "iopub.execute_input": "2023-08-04T16:22:01.277911Z",
     "iopub.status.busy": "2023-08-04T16:22:01.277545Z",
     "iopub.status.idle": "2023-08-04T16:22:01.290555Z",
     "shell.execute_reply": "2023-08-04T16:22:01.289351Z",
     "shell.execute_reply.started": "2023-08-04T16:22:01.277878Z"
    }
   },
   "outputs": [],
   "source": [
    "# Checking input data contents\n",
    "os.listdir(data_path)"
   ]
  },
  {
   "cell_type": "code",
   "execution_count": null,
   "metadata": {
    "execution": {
     "iopub.execute_input": "2023-08-04T16:22:03.677974Z",
     "iopub.status.busy": "2023-08-04T16:22:03.677618Z",
     "iopub.status.idle": "2023-08-04T16:22:03.683128Z",
     "shell.execute_reply": "2023-08-04T16:22:03.682052Z",
     "shell.execute_reply.started": "2023-08-04T16:22:03.677942Z"
    }
   },
   "outputs": [],
   "source": [
    "# Defining input images and raw annotations path\n",
    "img_path=os.path.join(data_path, 'images')\n",
    "raw_annotations_path=os.path.join(data_path, 'faces.csv')"
   ]
  },
  {
   "cell_type": "code",
   "execution_count": null,
   "metadata": {
    "execution": {
     "iopub.execute_input": "2023-08-04T16:22:04.043326Z",
     "iopub.status.busy": "2023-08-04T16:22:04.042628Z",
     "iopub.status.idle": "2023-08-04T16:22:04.622091Z",
     "shell.execute_reply": "2023-08-04T16:22:04.621123Z",
     "shell.execute_reply.started": "2023-08-04T16:22:04.04329Z"
    }
   },
   "outputs": [],
   "source": [
    "# Creating a list of all images\n",
    "face_list=os.listdir(img_path)"
   ]
  },
  {
   "cell_type": "code",
   "execution_count": null,
   "metadata": {
    "execution": {
     "iopub.execute_input": "2023-08-04T16:22:04.624749Z",
     "iopub.status.busy": "2023-08-04T16:22:04.623991Z",
     "iopub.status.idle": "2023-08-04T16:22:04.631742Z",
     "shell.execute_reply": "2023-08-04T16:22:04.630499Z",
     "shell.execute_reply.started": "2023-08-04T16:22:04.624702Z"
    }
   },
   "outputs": [],
   "source": [
    "face_list[:5]"
   ]
  },
  {
   "cell_type": "code",
   "execution_count": null,
   "metadata": {
    "execution": {
     "iopub.execute_input": "2023-08-04T16:22:04.876887Z",
     "iopub.status.busy": "2023-08-04T16:22:04.876528Z",
     "iopub.status.idle": "2023-08-04T16:22:04.883038Z",
     "shell.execute_reply": "2023-08-04T16:22:04.882061Z",
     "shell.execute_reply.started": "2023-08-04T16:22:04.876857Z"
    }
   },
   "outputs": [],
   "source": [
    "data_len=len(face_list)\n",
    "data_len"
   ]
  },
  {
   "cell_type": "markdown",
   "metadata": {},
   "source": [
    "##### So, there are total 2204 images. Let's shuffle them"
   ]
  },
  {
   "cell_type": "code",
   "execution_count": null,
   "metadata": {
    "execution": {
     "iopub.execute_input": "2023-08-04T16:22:05.570707Z",
     "iopub.status.busy": "2023-08-04T16:22:05.570359Z",
     "iopub.status.idle": "2023-08-04T16:22:05.581073Z",
     "shell.execute_reply": "2023-08-04T16:22:05.579963Z",
     "shell.execute_reply.started": "2023-08-04T16:22:05.570678Z"
    }
   },
   "outputs": [],
   "source": [
    "random.shuffle(face_list)\n",
    "# Checking if they are shuffled\n",
    "face_list[:5]"
   ]
  },
  {
   "cell_type": "markdown",
   "metadata": {},
   "source": [
    "##### Defining the train, validation and test split as 80%, 10% and 10% respectively"
   ]
  },
  {
   "cell_type": "code",
   "execution_count": null,
   "metadata": {
    "execution": {
     "iopub.execute_input": "2023-08-04T16:22:06.147124Z",
     "iopub.status.busy": "2023-08-04T16:22:06.146749Z",
     "iopub.status.idle": "2023-08-04T16:22:06.152328Z",
     "shell.execute_reply": "2023-08-04T16:22:06.151164Z",
     "shell.execute_reply.started": "2023-08-04T16:22:06.147091Z"
    }
   },
   "outputs": [],
   "source": [
    "train_split=0.8\n",
    "val_split=0.1\n",
    "test_split=0.1"
   ]
  },
  {
   "cell_type": "markdown",
   "metadata": {},
   "source": [
    "#### Separating input data on train, validation and test sets"
   ]
  },
  {
   "cell_type": "code",
   "execution_count": null,
   "metadata": {
    "execution": {
     "iopub.execute_input": "2023-08-04T16:22:08.324328Z",
     "iopub.status.busy": "2023-08-04T16:22:08.323602Z",
     "iopub.status.idle": "2023-08-04T16:22:08.330312Z",
     "shell.execute_reply": "2023-08-04T16:22:08.329146Z",
     "shell.execute_reply.started": "2023-08-04T16:22:08.324285Z"
    }
   },
   "outputs": [],
   "source": [
    "imgtrain_list=face_list[:int(data_len*train_split)]\n",
    "imgval_list=face_list[int(data_len*train_split):int(data_len*(train_split+val_split))]\n",
    "imgtest_list=face_list[int(data_len*(train_split+val_split)):]"
   ]
  },
  {
   "cell_type": "code",
   "execution_count": null,
   "metadata": {
    "execution": {
     "iopub.execute_input": "2023-08-04T16:22:08.574696Z",
     "iopub.status.busy": "2023-08-04T16:22:08.574341Z",
     "iopub.status.idle": "2023-08-04T16:22:08.581981Z",
     "shell.execute_reply": "2023-08-04T16:22:08.580715Z",
     "shell.execute_reply.started": "2023-08-04T16:22:08.574664Z"
    }
   },
   "outputs": [],
   "source": [
    "imgtest_list[:5] # first five images in test set"
   ]
  },
  {
   "cell_type": "code",
   "execution_count": null,
   "metadata": {
    "execution": {
     "iopub.execute_input": "2023-08-04T16:22:10.857499Z",
     "iopub.status.busy": "2023-08-04T16:22:10.856551Z",
     "iopub.status.idle": "2023-08-04T16:22:10.86455Z",
     "shell.execute_reply": "2023-08-04T16:22:10.86355Z",
     "shell.execute_reply.started": "2023-08-04T16:22:10.857453Z"
    }
   },
   "outputs": [],
   "source": [
    "# Checking the size of train, validation and test dataset\n",
    "len(imgtrain_list), len(imgval_list), len(imgtest_list)"
   ]
  },
  {
   "cell_type": "markdown",
   "metadata": {},
   "source": [
    "#### YOLOv8 requires text file for every image. The text file should have the same name as the image file, only the image extension should be replaced by text extension. This text file contains the bounding box information of the objects in the corresponding image"
   ]
  },
  {
   "cell_type": "code",
   "execution_count": null,
   "metadata": {
    "execution": {
     "iopub.execute_input": "2023-08-04T16:22:13.979671Z",
     "iopub.status.busy": "2023-08-04T16:22:13.979008Z",
     "iopub.status.idle": "2023-08-04T16:22:13.984643Z",
     "shell.execute_reply": "2023-08-04T16:22:13.983429Z",
     "shell.execute_reply.started": "2023-08-04T16:22:13.979638Z"
    }
   },
   "outputs": [],
   "source": [
    "# function to extract basename from a file and add a different extension to it. \n",
    "def change_extension(file):\n",
    "    basename=os.path.splitext(file)[0]\n",
    "    filename=basename+extension\n",
    "    return filename"
   ]
  },
  {
   "cell_type": "markdown",
   "metadata": {},
   "source": [
    "##### Creating the lists of text files corresponding to the images in each of the sets"
   ]
  },
  {
   "cell_type": "code",
   "execution_count": null,
   "metadata": {
    "execution": {
     "iopub.execute_input": "2023-08-04T16:22:17.274626Z",
     "iopub.status.busy": "2023-08-04T16:22:17.273654Z",
     "iopub.status.idle": "2023-08-04T16:22:17.285823Z",
     "shell.execute_reply": "2023-08-04T16:22:17.284743Z",
     "shell.execute_reply.started": "2023-08-04T16:22:17.274588Z"
    }
   },
   "outputs": [],
   "source": [
    "labeltrain_list = list(map(change_extension, imgtrain_list)) \n",
    "labelval_list = list(map(change_extension, imgval_list)) \n",
    "labeltest_list = list(map(change_extension, imgtest_list)) "
   ]
  },
  {
   "cell_type": "code",
   "execution_count": null,
   "metadata": {
    "execution": {
     "iopub.execute_input": "2023-08-04T16:22:17.583762Z",
     "iopub.status.busy": "2023-08-04T16:22:17.583411Z",
     "iopub.status.idle": "2023-08-04T16:22:17.590009Z",
     "shell.execute_reply": "2023-08-04T16:22:17.588964Z",
     "shell.execute_reply.started": "2023-08-04T16:22:17.583725Z"
    }
   },
   "outputs": [],
   "source": [
    "# Checking if the list of text files are created correctly \n",
    "len(labeltrain_list), len(labelval_list), len(labeltest_list)"
   ]
  },
  {
   "cell_type": "code",
   "execution_count": null,
   "metadata": {
    "execution": {
     "iopub.execute_input": "2023-08-04T16:22:19.424803Z",
     "iopub.status.busy": "2023-08-04T16:22:19.423652Z",
     "iopub.status.idle": "2023-08-04T16:22:19.431771Z",
     "shell.execute_reply": "2023-08-04T16:22:19.430544Z",
     "shell.execute_reply.started": "2023-08-04T16:22:19.424761Z"
    }
   },
   "outputs": [],
   "source": [
    "\n",
    "labeltest_list[:5] # matches with the first five images of test set"
   ]
  },
  {
   "cell_type": "markdown",
   "metadata": {},
   "source": [
    "#### Reading the annotations file"
   ]
  },
  {
   "cell_type": "code",
   "execution_count": null,
   "metadata": {
    "execution": {
     "iopub.execute_input": "2023-08-04T16:22:23.993946Z",
     "iopub.status.busy": "2023-08-04T16:22:23.993588Z",
     "iopub.status.idle": "2023-08-04T16:22:24.031333Z",
     "shell.execute_reply": "2023-08-04T16:22:24.030188Z",
     "shell.execute_reply.started": "2023-08-04T16:22:23.993914Z"
    }
   },
   "outputs": [],
   "source": [
    "raw_annotations=pd.read_csv(raw_annotations_path)\n",
    "raw_annotations"
   ]
  },
  {
   "cell_type": "markdown",
   "metadata": {},
   "source": [
    "##### The raw annotations contain the diagonal points of the bounding box. YOLOv8 expects the bounding box information in the form of centre coordinates, width and height of the bounding box. So let's transform the information in the required format."
   ]
  },
  {
   "cell_type": "code",
   "execution_count": null,
   "metadata": {
    "execution": {
     "iopub.execute_input": "2023-08-04T16:22:27.52627Z",
     "iopub.status.busy": "2023-08-04T16:22:27.525546Z",
     "iopub.status.idle": "2023-08-04T16:22:27.554495Z",
     "shell.execute_reply": "2023-08-04T16:22:27.553206Z",
     "shell.execute_reply.started": "2023-08-04T16:22:27.526234Z"
    }
   },
   "outputs": [],
   "source": [
    "raw_annotations['x_centre']=0.5*(raw_annotations['x0']+raw_annotations['x1'])\n",
    "raw_annotations['y_centre']=0.5*(raw_annotations['y0']+raw_annotations['y1'])\n",
    "raw_annotations['bb_width']=raw_annotations['x1']-raw_annotations['x0']\n",
    "raw_annotations['bb_height']=raw_annotations['y1']-raw_annotations['y0']\n",
    "raw_annotations"
   ]
  },
  {
   "cell_type": "markdown",
   "metadata": {},
   "source": [
    "##### Also the dimensions of bounding box are to be normalised with respect to image width and height"
   ]
  },
  {
   "cell_type": "code",
   "execution_count": null,
   "metadata": {
    "execution": {
     "iopub.execute_input": "2023-08-04T16:22:31.376228Z",
     "iopub.status.busy": "2023-08-04T16:22:31.375841Z",
     "iopub.status.idle": "2023-08-04T16:22:31.407074Z",
     "shell.execute_reply": "2023-08-04T16:22:31.406175Z",
     "shell.execute_reply.started": "2023-08-04T16:22:31.376194Z"
    }
   },
   "outputs": [],
   "source": [
    "raw_annotations['xcentre_scaled']=raw_annotations['x_centre']/raw_annotations['width']\n",
    "raw_annotations['ycentre_scaled']=raw_annotations['y_centre']/raw_annotations['height']\n",
    "raw_annotations['width_scaled']=raw_annotations['bb_width']/raw_annotations['width']\n",
    "raw_annotations['height_scaled']=raw_annotations['bb_height']/raw_annotations['height']\n",
    "raw_annotations"
   ]
  },
  {
   "cell_type": "code",
   "execution_count": null,
   "metadata": {
    "execution": {
     "iopub.execute_input": "2023-08-04T16:22:34.298086Z",
     "iopub.status.busy": "2023-08-04T16:22:34.297655Z",
     "iopub.status.idle": "2023-08-04T16:22:34.309199Z",
     "shell.execute_reply": "2023-08-04T16:22:34.308066Z",
     "shell.execute_reply.started": "2023-08-04T16:22:34.298049Z"
    }
   },
   "outputs": [],
   "source": [
    "len(raw_annotations['image_name'].unique())"
   ]
  },
  {
   "cell_type": "markdown",
   "metadata": {},
   "source": [
    "##### So we have 2204 unique labels. The dataset is consistent."
   ]
  },
  {
   "cell_type": "markdown",
   "metadata": {},
   "source": [
    "# Label files creation"
   ]
  },
  {
   "cell_type": "markdown",
   "metadata": {},
   "source": [
    "##### Creating a text file for every image with the bounding box information in correct format. The correct format for each bounding box is as follows:\n",
    "##### class_id &nbsp; x_centre &nbsp; y_centre &nbsp; width &nbsp; height\n",
    "##### This is for every single bounding box. So, if there are multiple objects to detect in one image, there will be as many lines "
   ]
  },
  {
   "cell_type": "code",
   "execution_count": null,
   "metadata": {
    "execution": {
     "iopub.execute_input": "2023-08-04T16:22:38.49392Z",
     "iopub.status.busy": "2023-08-04T16:22:38.493551Z",
     "iopub.status.idle": "2023-08-04T16:22:38.499061Z",
     "shell.execute_reply": "2023-08-04T16:22:38.497996Z",
     "shell.execute_reply.started": "2023-08-04T16:22:38.493888Z"
    }
   },
   "outputs": [],
   "source": [
    "# Getting all unique images\n",
    "imgs=raw_annotations.groupby('image_name') "
   ]
  },
  {
   "cell_type": "code",
   "execution_count": null,
   "metadata": {
    "execution": {
     "iopub.execute_input": "2023-08-04T16:22:41.369258Z",
     "iopub.status.busy": "2023-08-04T16:22:41.368864Z",
     "iopub.status.idle": "2023-08-04T16:22:42.657181Z",
     "shell.execute_reply": "2023-08-04T16:22:42.656158Z",
     "shell.execute_reply.started": "2023-08-04T16:22:41.369224Z"
    }
   },
   "outputs": [],
   "source": [
    "for image in imgs:\n",
    "    img_df=imgs.get_group(image[0])\n",
    "    basename=os.path.splitext(image[0])[0]\n",
    "    txt_file=basename+extension\n",
    "    filepath=os.path.join(labels_path, txt_file)\n",
    "    lines=[]\n",
    "    i=1\n",
    "    for index,row in img_df.iterrows():\n",
    "        if i!=len(img_df):\n",
    "            line=str(class_id)+bs+str(row['xcentre_scaled'])+bs+str(row['ycentre_scaled'])+bs+str(row['width_scaled'])+bs+str(row['height_scaled'])+newline\n",
    "            lines.append(line)\n",
    "        else:\n",
    "            line=str(class_id)+bs+str(row['xcentre_scaled'])+bs+str(row['ycentre_scaled'])+bs+str(row['width_scaled'])+bs+ str(row['height_scaled'])\n",
    "            lines.append(line)\n",
    "        i=i+1\n",
    "    with open(filepath, 'w') as file:\n",
    "        file.writelines(lines)\n",
    "        "
   ]
  },
  {
   "cell_type": "code",
   "execution_count": null,
   "metadata": {
    "execution": {
     "iopub.execute_input": "2023-08-04T16:22:45.047788Z",
     "iopub.status.busy": "2023-08-04T16:22:45.047429Z",
     "iopub.status.idle": "2023-08-04T16:22:45.058181Z",
     "shell.execute_reply": "2023-08-04T16:22:45.057113Z",
     "shell.execute_reply.started": "2023-08-04T16:22:45.047758Z"
    }
   },
   "outputs": [],
   "source": [
    "# Checking the labels directory\n",
    "os.listdir(labels_path)[:5]"
   ]
  },
  {
   "cell_type": "markdown",
   "metadata": {},
   "source": [
    "##### Let's check what are the contents of any random label file created"
   ]
  },
  {
   "cell_type": "code",
   "execution_count": null,
   "metadata": {
    "execution": {
     "iopub.execute_input": "2023-08-04T16:22:45.831782Z",
     "iopub.status.busy": "2023-08-04T16:22:45.83141Z",
     "iopub.status.idle": "2023-08-04T16:22:45.841408Z",
     "shell.execute_reply": "2023-08-04T16:22:45.840307Z",
     "shell.execute_reply.started": "2023-08-04T16:22:45.831752Z"
    }
   },
   "outputs": [],
   "source": [
    "random_file=os.path.join(labels_path, os.listdir(labels_path)[4])\n",
    "with open (random_file, 'r') as f:\n",
    "    content=f.read()\n",
    "content"
   ]
  },
  {
   "cell_type": "markdown",
   "metadata": {},
   "source": [
    "##### This shows the bounding box data for this image and the order is same as mentioned earlier for every single object present"
   ]
  },
  {
   "cell_type": "code",
   "execution_count": null,
   "metadata": {
    "execution": {
     "iopub.execute_input": "2023-08-04T16:22:50.52894Z",
     "iopub.status.busy": "2023-08-04T16:22:50.52858Z",
     "iopub.status.idle": "2023-08-04T16:22:50.533713Z",
     "shell.execute_reply": "2023-08-04T16:22:50.532435Z",
     "shell.execute_reply.started": "2023-08-04T16:22:50.52891Z"
    }
   },
   "outputs": [],
   "source": [
    "def_size=640 # Image size for YOLOv8"
   ]
  },
  {
   "cell_type": "code",
   "execution_count": null,
   "metadata": {
    "execution": {
     "iopub.execute_input": "2023-08-04T16:22:53.240068Z",
     "iopub.status.busy": "2023-08-04T16:22:53.23926Z",
     "iopub.status.idle": "2023-08-04T16:22:53.249397Z",
     "shell.execute_reply": "2023-08-04T16:22:53.248374Z",
     "shell.execute_reply.started": "2023-08-04T16:22:53.240031Z"
    }
   },
   "outputs": [],
   "source": [
    "len(os.listdir(labels_path)) # Verifying all labels are created"
   ]
  },
  {
   "cell_type": "markdown",
   "metadata": {},
   "source": [
    "##### Writing functions to move label files and copy images from their source to train, validation and test directories"
   ]
  },
  {
   "cell_type": "code",
   "execution_count": null,
   "metadata": {
    "execution": {
     "iopub.execute_input": "2023-08-04T16:22:53.953901Z",
     "iopub.status.busy": "2023-08-04T16:22:53.953527Z",
     "iopub.status.idle": "2023-08-04T16:22:53.960296Z",
     "shell.execute_reply": "2023-08-04T16:22:53.959252Z",
     "shell.execute_reply.started": "2023-08-04T16:22:53.953869Z"
    }
   },
   "outputs": [],
   "source": [
    "# function to move files from source to detination\n",
    "def move_files(data_list, source_path, destination_path):\n",
    "    i=0\n",
    "    for file in data_list:\n",
    "        filepath=os.path.join(source_path, file)\n",
    "        dest_path=os.path.join(data_path, destination_path)\n",
    "        if not os.path.isdir(dest_path):\n",
    "            os.makedirs(dest_path)\n",
    "        shutil.move(filepath, dest_path)\n",
    "        i=i+1\n",
    "    print(\"Number of files transferred:\", i)"
   ]
  },
  {
   "cell_type": "code",
   "execution_count": null,
   "metadata": {
    "execution": {
     "iopub.execute_input": "2023-08-04T16:22:56.977385Z",
     "iopub.status.busy": "2023-08-04T16:22:56.976829Z",
     "iopub.status.idle": "2023-08-04T16:22:56.984123Z",
     "shell.execute_reply": "2023-08-04T16:22:56.983216Z",
     "shell.execute_reply.started": "2023-08-04T16:22:56.97735Z"
    }
   },
   "outputs": [],
   "source": [
    "# function to resize the images and copy the resized image to destination\n",
    "def move_images(data_list, source_path, destination_path):\n",
    "    i=0\n",
    "    for file in data_list:\n",
    "        filepath=os.path.join(source_path, file)\n",
    "        dest_path=os.path.join(data_path, destination_path)\n",
    "        \n",
    "        if not os.path.isdir(dest_path):\n",
    "            os.makedirs(dest_path)\n",
    "        finalimage_path=os.path.join(dest_path, file)\n",
    "        img_resized=cv2.resize(cv2.imread(filepath), (def_size, def_size))\n",
    "        cv2.imwrite(finalimage_path, img_resized)\n",
    "        i=i+1\n",
    "    print(\"Number of files transferred:\", i)\n"
   ]
  },
  {
   "cell_type": "markdown",
   "metadata": {},
   "source": [
    "#### Moving images from source to train, validation and test directories"
   ]
  },
  {
   "cell_type": "code",
   "execution_count": null,
   "metadata": {
    "execution": {
     "iopub.execute_input": "2023-08-04T16:23:06.082603Z",
     "iopub.status.busy": "2023-08-04T16:23:06.082248Z",
     "iopub.status.idle": "2023-08-04T16:24:08.248806Z",
     "shell.execute_reply": "2023-08-04T16:24:08.247836Z",
     "shell.execute_reply.started": "2023-08-04T16:23:06.082573Z"
    }
   },
   "outputs": [],
   "source": [
    "move_images(imgtrain_list, img_path, imgtrainpath)"
   ]
  },
  {
   "cell_type": "code",
   "execution_count": null,
   "metadata": {
    "execution": {
     "iopub.execute_input": "2023-08-04T16:26:13.130367Z",
     "iopub.status.busy": "2023-08-04T16:26:13.129819Z",
     "iopub.status.idle": "2023-08-04T16:26:20.244418Z",
     "shell.execute_reply": "2023-08-04T16:26:20.243427Z",
     "shell.execute_reply.started": "2023-08-04T16:26:13.130327Z"
    }
   },
   "outputs": [],
   "source": [
    "move_images(imgval_list, img_path, imgvalpath)"
   ]
  },
  {
   "cell_type": "code",
   "execution_count": null,
   "metadata": {
    "execution": {
     "iopub.execute_input": "2023-08-04T16:26:25.340094Z",
     "iopub.status.busy": "2023-08-04T16:26:25.339726Z",
     "iopub.status.idle": "2023-08-04T16:26:32.820035Z",
     "shell.execute_reply": "2023-08-04T16:26:32.819008Z",
     "shell.execute_reply.started": "2023-08-04T16:26:25.340063Z"
    }
   },
   "outputs": [],
   "source": [
    "move_images(imgtest_list, img_path, imgtestpath)"
   ]
  },
  {
   "cell_type": "markdown",
   "metadata": {},
   "source": [
    "#### Moving labels from source to train, validation and test directories"
   ]
  },
  {
   "cell_type": "code",
   "execution_count": null,
   "metadata": {
    "execution": {
     "iopub.execute_input": "2023-08-04T16:26:36.912686Z",
     "iopub.status.busy": "2023-08-04T16:26:36.911993Z",
     "iopub.status.idle": "2023-08-04T16:26:37.030937Z",
     "shell.execute_reply": "2023-08-04T16:26:37.029989Z",
     "shell.execute_reply.started": "2023-08-04T16:26:36.912649Z"
    }
   },
   "outputs": [],
   "source": [
    "move_files(labeltrain_list, labels_path, labeltrainpath)"
   ]
  },
  {
   "cell_type": "code",
   "execution_count": null,
   "metadata": {
    "execution": {
     "iopub.execute_input": "2023-08-04T16:26:38.461622Z",
     "iopub.status.busy": "2023-08-04T16:26:38.461259Z",
     "iopub.status.idle": "2023-08-04T16:26:38.480905Z",
     "shell.execute_reply": "2023-08-04T16:26:38.47988Z",
     "shell.execute_reply.started": "2023-08-04T16:26:38.461592Z"
    }
   },
   "outputs": [],
   "source": [
    "move_files(labelval_list, labels_path, labelvalpath)"
   ]
  },
  {
   "cell_type": "code",
   "execution_count": null,
   "metadata": {
    "execution": {
     "iopub.execute_input": "2023-08-04T16:26:38.951972Z",
     "iopub.status.busy": "2023-08-04T16:26:38.951581Z",
     "iopub.status.idle": "2023-08-04T16:26:38.97152Z",
     "shell.execute_reply": "2023-08-04T16:26:38.970294Z",
     "shell.execute_reply.started": "2023-08-04T16:26:38.951941Z"
    }
   },
   "outputs": [],
   "source": [
    "move_files(labeltest_list, labels_path, labeltestpath)"
   ]
  },
  {
   "cell_type": "markdown",
   "metadata": {},
   "source": [
    "##### Checking if all the label files are moved"
   ]
  },
  {
   "cell_type": "code",
   "execution_count": null,
   "metadata": {
    "execution": {
     "iopub.execute_input": "2023-08-04T16:26:42.880544Z",
     "iopub.status.busy": "2023-08-04T16:26:42.879669Z",
     "iopub.status.idle": "2023-08-04T16:26:42.889821Z",
     "shell.execute_reply": "2023-08-04T16:26:42.888861Z",
     "shell.execute_reply.started": "2023-08-04T16:26:42.880497Z"
    }
   },
   "outputs": [],
   "source": [
    "len(os.listdir(labels_path)) "
   ]
  },
  {
   "cell_type": "code",
   "execution_count": null,
   "metadata": {
    "execution": {
     "iopub.execute_input": "2023-08-04T16:26:43.164128Z",
     "iopub.status.busy": "2023-08-04T16:26:43.163494Z",
     "iopub.status.idle": "2023-08-04T16:26:43.169942Z",
     "shell.execute_reply": "2023-08-04T16:26:43.169001Z",
     "shell.execute_reply.started": "2023-08-04T16:26:43.164096Z"
    }
   },
   "outputs": [],
   "source": [
    "shutil.rmtree(labels_path) # removing labels path as it is empty"
   ]
  },
  {
   "cell_type": "markdown",
   "metadata": {},
   "source": [
    "# Creating config file"
   ]
  },
  {
   "cell_type": "markdown",
   "metadata": {},
   "source": [
    "#### Below is the format of config file for YOLOv8"
   ]
  },
  {
   "cell_type": "markdown",
   "metadata": {},
   "source": [
    "train: images/train  # train images <br>\n",
    "val: images/val  # val images <br>\n",
    "test:  # test images (optional) <br>\n",
    "<br>\n",
    "names: <br>\n",
    "  0: person <br>\n",
    "  1: bicycle <br>\n",
    "  2: car <br>\n",
    "  ... <br>\n",
    "  77: teddy bear <br>\n",
    "  78: hair drier <br>\n",
    "  79: toothbrush\n"
   ]
  },
  {
   "cell_type": "markdown",
   "metadata": {},
   "source": [
    "##### Creating and writing the config file in the above format"
   ]
  },
  {
   "cell_type": "code",
   "execution_count": null,
   "metadata": {
    "execution": {
     "iopub.execute_input": "2023-08-04T16:26:46.969288Z",
     "iopub.status.busy": "2023-08-04T16:26:46.968574Z",
     "iopub.status.idle": "2023-08-04T16:26:46.975298Z",
     "shell.execute_reply": "2023-08-04T16:26:46.974283Z",
     "shell.execute_reply.started": "2023-08-04T16:26:46.969255Z"
    }
   },
   "outputs": [],
   "source": [
    "ln_1='# Train/val/test sets'+newline\n",
    "ln_2='train: ' +\"'\"+imgtrainpath+\"'\"+newline\n",
    "ln_3='val: ' +\"'\" + imgvalpath+\"'\"+newline\n",
    "ln_4='test: ' +\"'\" + imgtestpath+\"'\"+newline\n",
    "ln_5=newline\n",
    "ln_6='# Classes'+newline\n",
    "ln_7='names:'+newline\n",
    "ln_8='  0: face'\n",
    "config_lines=[ln_1, ln_2, ln_3, ln_4, ln_5, ln_6, ln_7, ln_8]"
   ]
  },
  {
   "cell_type": "code",
   "execution_count": null,
   "metadata": {
    "execution": {
     "iopub.execute_input": "2023-08-04T16:26:47.412466Z",
     "iopub.status.busy": "2023-08-04T16:26:47.411787Z",
     "iopub.status.idle": "2023-08-04T16:26:47.418607Z",
     "shell.execute_reply": "2023-08-04T16:26:47.417539Z",
     "shell.execute_reply.started": "2023-08-04T16:26:47.412432Z"
    }
   },
   "outputs": [],
   "source": [
    "# Creating path for config file\n",
    "config_path=os.path.join(curr_path, 'config.yaml')\n",
    "config_path"
   ]
  },
  {
   "cell_type": "code",
   "execution_count": null,
   "metadata": {
    "execution": {
     "iopub.execute_input": "2023-08-04T16:26:51.383262Z",
     "iopub.status.busy": "2023-08-04T16:26:51.382866Z",
     "iopub.status.idle": "2023-08-04T16:26:51.38886Z",
     "shell.execute_reply": "2023-08-04T16:26:51.387847Z",
     "shell.execute_reply.started": "2023-08-04T16:26:51.383227Z"
    }
   },
   "outputs": [],
   "source": [
    "# Writing config file\n",
    "with open(config_path, 'w') as f:\n",
    "    f.writelines(config_lines)"
   ]
  },
  {
   "cell_type": "markdown",
   "metadata": {},
   "source": [
    "# Image Visualisation"
   ]
  },
  {
   "cell_type": "markdown",
   "metadata": {},
   "source": [
    "#### Let's write a function to obtain bounding box coordinates from text label files."
   ]
  },
  {
   "cell_type": "code",
   "execution_count": null,
   "metadata": {
    "execution": {
     "iopub.execute_input": "2023-08-04T16:26:54.508534Z",
     "iopub.status.busy": "2023-08-04T16:26:54.507816Z",
     "iopub.status.idle": "2023-08-04T16:26:54.516235Z",
     "shell.execute_reply": "2023-08-04T16:26:54.515206Z",
     "shell.execute_reply.started": "2023-08-04T16:26:54.508497Z"
    }
   },
   "outputs": [],
   "source": [
    "# function to obtain bounding box  coordinates from text label files\n",
    "def get_bbox_from_label(text_file_path):\n",
    "    bbox_list=[]\n",
    "    with open(text_file_path, \"r\") as file:\n",
    "        for line in file:\n",
    "            _,x_centre,y_centre,width,height=line.strip().split(\" \")\n",
    "            x1=(float(x_centre)+(float(width)/2))*def_size\n",
    "            x0=(float(x_centre)-(float(width)/2))*def_size\n",
    "            y1=(float(y_centre)+(float(height)/2))*def_size\n",
    "            y0=(float(y_centre)-(float(height)/2))*def_size\n",
    "            \n",
    "            vertices=np.array([[int(x0), int(y0)], [int(x1), int(y0)], \n",
    "                               [int(x1),int(y1)], [int(x0),int(y1)]])\n",
    "#             vertices=vertices.reshape((-1,1,2))\n",
    "            bbox_list.append(vertices)      \n",
    "            \n",
    "    return tuple(bbox_list)"
   ]
  },
  {
   "cell_type": "markdown",
   "metadata": {},
   "source": [
    "#### Drawing bouding box around faces in some randomly selected images in training dataset using training labels "
   ]
  },
  {
   "cell_type": "code",
   "execution_count": null,
   "metadata": {
    "execution": {
     "iopub.execute_input": "2023-08-04T16:26:57.784289Z",
     "iopub.status.busy": "2023-08-04T16:26:57.783583Z",
     "iopub.status.idle": "2023-08-04T16:26:57.789155Z",
     "shell.execute_reply": "2023-08-04T16:26:57.788224Z",
     "shell.execute_reply.started": "2023-08-04T16:26:57.784255Z"
    }
   },
   "outputs": [],
   "source": [
    "# defining red color in RGB to draw bounding box\n",
    "red=(255,0,0) "
   ]
  },
  {
   "cell_type": "code",
   "execution_count": null,
   "metadata": {
    "execution": {
     "iopub.execute_input": "2023-08-04T16:26:58.158265Z",
     "iopub.status.busy": "2023-08-04T16:26:58.157597Z",
     "iopub.status.idle": "2023-08-04T16:27:00.087562Z",
     "shell.execute_reply": "2023-08-04T16:27:00.086314Z",
     "shell.execute_reply.started": "2023-08-04T16:26:58.158229Z"
    }
   },
   "outputs": [],
   "source": [
    "plt.figure(figsize=(30,30))\n",
    "for i in range(1,8,2):\n",
    "    k=random.randint(0, len(imgtrain_list)-1)\n",
    "    img_path=os.path.join(imgtrainpath, imgtrain_list[k])\n",
    "    label_path=os.path.join(labeltrainpath, labeltrain_list[k])\n",
    "    bbox=get_bbox_from_label(label_path)\n",
    "    image=cv2.imread(img_path)\n",
    "    image_copy=copy.deepcopy(image)\n",
    "    ax=plt.subplot(4, 2, i)\n",
    "    plt.imshow(image) # displaying image\n",
    "    plt.xticks([])\n",
    "    plt.yticks([])\n",
    "    cv2.drawContours(image_copy, bbox, -1, red, 2) # drawing bounding box on copy of image\n",
    "    ax=plt.subplot(4, 2, i+1)\n",
    "    plt.imshow(image_copy) # displaying image with bounding box\n",
    "    plt.xticks([])\n",
    "    plt.yticks([])"
   ]
  },
  {
   "cell_type": "markdown",
   "metadata": {},
   "source": [
    "##### These images validate the created text file labels and show that we are good to go for training"
   ]
  },
  {
   "cell_type": "markdown",
   "metadata": {},
   "source": [
    "# Training"
   ]
  },
  {
   "cell_type": "markdown",
   "metadata": {},
   "source": [
    "#### Let's install ultralytics and use YOLOv8 to detect faces"
   ]
  },
  {
   "cell_type": "code",
   "execution_count": null,
   "metadata": {
    "execution": {
     "iopub.execute_input": "2023-08-04T16:27:09.941588Z",
     "iopub.status.busy": "2023-08-04T16:27:09.94123Z",
     "iopub.status.idle": "2023-08-04T16:27:23.231459Z",
     "shell.execute_reply": "2023-08-04T16:27:23.230272Z",
     "shell.execute_reply.started": "2023-08-04T16:27:09.941557Z"
    }
   },
   "outputs": [],
   "source": [
    "# Installing ultralytics\n",
    "!pip install ultralytics"
   ]
  },
  {
   "cell_type": "code",
   "execution_count": null,
   "metadata": {
    "execution": {
     "iopub.execute_input": "2023-08-04T16:27:27.461842Z",
     "iopub.status.busy": "2023-08-04T16:27:27.461467Z",
     "iopub.status.idle": "2023-08-04T16:27:32.236624Z",
     "shell.execute_reply": "2023-08-04T16:27:32.235646Z",
     "shell.execute_reply.started": "2023-08-04T16:27:27.461804Z"
    }
   },
   "outputs": [],
   "source": [
    "from ultralytics import YOLO"
   ]
  },
  {
   "cell_type": "code",
   "execution_count": null,
   "metadata": {
    "execution": {
     "iopub.execute_input": "2023-08-04T16:27:38.626827Z",
     "iopub.status.busy": "2023-08-04T16:27:38.626081Z",
     "iopub.status.idle": "2023-08-04T16:27:39.920462Z",
     "shell.execute_reply": "2023-08-04T16:27:39.919511Z",
     "shell.execute_reply.started": "2023-08-04T16:27:38.626792Z"
    }
   },
   "outputs": [],
   "source": [
    "# Using YOLO's ptetrained model architecture and weights for training\n",
    "model=YOLO('yolov8n.yaml').load('yolov8n.pt')"
   ]
  },
  {
   "cell_type": "code",
   "execution_count": null,
   "metadata": {
    "execution": {
     "iopub.execute_input": "2023-08-04T16:27:53.390895Z",
     "iopub.status.busy": "2023-08-04T16:27:53.390074Z",
     "iopub.status.idle": "2023-08-04T16:35:47.97302Z",
     "shell.execute_reply": "2023-08-04T16:35:47.971619Z",
     "shell.execute_reply.started": "2023-08-04T16:27:53.39086Z"
    }
   },
   "outputs": [],
   "source": [
    "# Training the model\n",
    "results=model.train(data=config_path, epochs=100, resume=True, iou=0.5, conf=0.001)"
   ]
  },
  {
   "cell_type": "markdown",
   "metadata": {},
   "source": [
    "Results can be converted to a zip file using the following command which is commented right now. This zip file can be downloaded later if results are to be analysed locally"
   ]
  },
  {
   "cell_type": "code",
   "execution_count": null,
   "metadata": {},
   "outputs": [],
   "source": [
    "# !zip -r results.zip /kaggle/working/runs/detect/train"
   ]
  },
  {
   "cell_type": "markdown",
   "metadata": {},
   "source": [
    "#### mAP50 is the average precision value obtained by model at 50% IoU. This is the default metric used by YOLOv8 for object detection tasks."
   ]
  },
  {
   "cell_type": "markdown",
   "metadata": {},
   "source": [
    "#### Let's see how the training progressed with epochs by visualizing the plots"
   ]
  },
  {
   "cell_type": "code",
   "execution_count": null,
   "metadata": {
    "execution": {
     "iopub.execute_input": "2023-08-02T16:53:30.947258Z",
     "iopub.status.busy": "2023-08-02T16:53:30.946044Z",
     "iopub.status.idle": "2023-08-02T16:53:32.460919Z",
     "shell.execute_reply": "2023-08-02T16:53:32.459844Z",
     "shell.execute_reply.started": "2023-08-02T16:53:30.947217Z"
    }
   },
   "outputs": [],
   "source": [
    "plt.figure(figsize=(30,30))\n",
    "trainingresult_path=os.path.join(curr_path, 'runs', 'detect', 'train')\n",
    "results_png=cv2.imread(os.path.join(trainingresult_path,'results.png'))\n",
    "plt.imshow(results_png)"
   ]
  },
  {
   "cell_type": "markdown",
   "metadata": {},
   "source": [
    "#### All losses- Box loss, class loss, dfl loss are decreasing with epochs.\n",
    "#### All metrics- Precision, Recall, mAP50 and mAP50-95 are increasing with epochs"
   ]
  },
  {
   "cell_type": "markdown",
   "metadata": {},
   "source": [
    "#### Let's check the model performance on training, validation and test datasets"
   ]
  },
  {
   "cell_type": "markdown",
   "metadata": {},
   "source": [
    "# Model Performance "
   ]
  },
  {
   "cell_type": "markdown",
   "metadata": {},
   "source": [
    "##### Let's write functions for evaluating model metrics and displaying plots"
   ]
  },
  {
   "cell_type": "code",
   "execution_count": null,
   "metadata": {
    "execution": {
     "iopub.execute_input": "2023-08-02T11:16:09.179922Z",
     "iopub.status.busy": "2023-08-02T11:16:09.179553Z",
     "iopub.status.idle": "2023-08-02T11:16:09.192591Z",
     "shell.execute_reply": "2023-08-02T11:16:09.19149Z",
     "shell.execute_reply.started": "2023-08-02T11:16:09.17989Z"
    }
   },
   "outputs": [],
   "source": [
    "# function for evaluating model metrics map50\n",
    "def evaluate_map50(trainedmodel, data_path, dataset='val'):\n",
    "    metrics=trainedmodel.val(data=data_path, split=dataset)\n",
    "    map50=round(metrics.box.map50, 3)\n",
    "    print(\"The mAP of model on {0} dataset is {1}\".format(dataset,map50))\n",
    "    return metrics, map50"
   ]
  },
  {
   "cell_type": "code",
   "execution_count": null,
   "metadata": {
    "execution": {
     "iopub.execute_input": "2023-08-02T11:23:03.691296Z",
     "iopub.status.busy": "2023-08-02T11:23:03.69092Z",
     "iopub.status.idle": "2023-08-02T11:23:03.703196Z",
     "shell.execute_reply": "2023-08-02T11:23:03.701024Z",
     "shell.execute_reply.started": "2023-08-02T11:23:03.691265Z"
    }
   },
   "outputs": [],
   "source": [
    "# function for displaying plots created by YOLO\n",
    "def display_curves(root_path):\n",
    "    plt.figure(figsize=(50,50))\n",
    "    \n",
    "    #displaying p curve\n",
    "    p_curve=cv2.imread(os.path.join(root_path,'P_curve.png'))\n",
    "    ax=plt.subplot(5,1,1)\n",
    "    plt.imshow(p_curve)\n",
    "    \n",
    "    #displaying r curve\n",
    "    r_curve=cv2.imread(os.path.join(root_path,'R_curve.png'))\n",
    "    ax=plt.subplot(5,1,2)\n",
    "    plt.imshow(r_curve)\n",
    "    \n",
    "    #displaying pr curve\n",
    "    pr_curve=cv2.imread(os.path.join(root_path,'PR_curve.png'))\n",
    "    ax=plt.subplot(5,1,3)\n",
    "    plt.imshow(pr_curve)\n",
    "    \n",
    "    #displaying f1 curve\n",
    "    f1_curve=cv2.imread(os.path.join(root_path,'F1_curve.png'))\n",
    "    ax=plt.subplot(5,1,4)\n",
    "    plt.imshow(f1_curve)\n",
    "    \n",
    "    #displaying confusion matrix\n",
    "    confusion_matrix=cv2.imread(os.path.join(root_path,'confusion_matrix.png'))\n",
    "    ax=plt.subplot(5,1,5)\n",
    "    plt.imshow(confusion_matrix)\n",
    "    "
   ]
  },
  {
   "cell_type": "code",
   "execution_count": null,
   "metadata": {
    "execution": {
     "iopub.execute_input": "2023-08-02T11:18:17.640734Z",
     "iopub.status.busy": "2023-08-02T11:18:17.639543Z",
     "iopub.status.idle": "2023-08-02T11:18:44.3556Z",
     "shell.execute_reply": "2023-08-02T11:18:44.354552Z",
     "shell.execute_reply.started": "2023-08-02T11:18:17.640678Z"
    }
   },
   "outputs": [],
   "source": [
    "# Evaluating train metrics\n",
    "train_metrics, train_map50=evaluate_map50(model, config_path, dataset='train')"
   ]
  },
  {
   "cell_type": "markdown",
   "metadata": {},
   "source": [
    "##### Path storing model's performance on training dataset"
   ]
  },
  {
   "cell_type": "code",
   "execution_count": null,
   "metadata": {
    "execution": {
     "iopub.execute_input": "2023-08-02T11:19:27.01008Z",
     "iopub.status.busy": "2023-08-02T11:19:27.009682Z",
     "iopub.status.idle": "2023-08-02T11:19:27.020373Z",
     "shell.execute_reply": "2023-08-02T11:19:27.018363Z",
     "shell.execute_reply.started": "2023-08-02T11:19:27.010045Z"
    }
   },
   "outputs": [],
   "source": [
    "train_path=os.path.join(curr_path, 'runs', 'detect', 'val') #val is a misnomer, it is actually measuring validation on training dataset"
   ]
  },
  {
   "cell_type": "code",
   "execution_count": null,
   "metadata": {
    "execution": {
     "iopub.execute_input": "2023-08-02T11:23:38.056642Z",
     "iopub.status.busy": "2023-08-02T11:23:38.056244Z",
     "iopub.status.idle": "2023-08-02T11:23:43.873551Z",
     "shell.execute_reply": "2023-08-02T11:23:43.872666Z",
     "shell.execute_reply.started": "2023-08-02T11:23:38.056609Z"
    }
   },
   "outputs": [],
   "source": [
    "# Display plots on training data\n",
    "display_curves(train_path)"
   ]
  },
  {
   "cell_type": "code",
   "execution_count": null,
   "metadata": {
    "execution": {
     "iopub.execute_input": "2023-08-02T11:26:53.746792Z",
     "iopub.status.busy": "2023-08-02T11:26:53.74643Z",
     "iopub.status.idle": "2023-08-02T11:27:02.006193Z",
     "shell.execute_reply": "2023-08-02T11:27:02.004947Z",
     "shell.execute_reply.started": "2023-08-02T11:26:53.746763Z"
    }
   },
   "outputs": [],
   "source": [
    "# Evaluating val metrics\n",
    "val_metrics, val_map50=evaluate_map50(model, config_path, dataset='val')"
   ]
  },
  {
   "cell_type": "markdown",
   "metadata": {},
   "source": [
    "##### Path storing model's performance on validation dataset"
   ]
  },
  {
   "cell_type": "code",
   "execution_count": null,
   "metadata": {
    "execution": {
     "iopub.execute_input": "2023-08-02T11:28:28.577546Z",
     "iopub.status.busy": "2023-08-02T11:28:28.577099Z",
     "iopub.status.idle": "2023-08-02T11:28:28.589823Z",
     "shell.execute_reply": "2023-08-02T11:28:28.58826Z",
     "shell.execute_reply.started": "2023-08-02T11:28:28.577495Z"
    }
   },
   "outputs": [],
   "source": [
    "val_path=os.path.join(curr_path, 'runs', 'detect', 'val2') "
   ]
  },
  {
   "cell_type": "code",
   "execution_count": null,
   "metadata": {
    "execution": {
     "iopub.execute_input": "2023-08-02T11:28:31.232822Z",
     "iopub.status.busy": "2023-08-02T11:28:31.232394Z",
     "iopub.status.idle": "2023-08-02T11:28:36.656598Z",
     "shell.execute_reply": "2023-08-02T11:28:36.655383Z",
     "shell.execute_reply.started": "2023-08-02T11:28:31.232789Z"
    }
   },
   "outputs": [],
   "source": [
    "# Display plots on validation data\n",
    "display_curves(val_path)"
   ]
  },
  {
   "cell_type": "code",
   "execution_count": null,
   "metadata": {},
   "outputs": [],
   "source": []
  },
  {
   "cell_type": "code",
   "execution_count": null,
   "metadata": {
    "execution": {
     "iopub.execute_input": "2023-08-02T11:35:46.482608Z",
     "iopub.status.busy": "2023-08-02T11:35:46.482203Z",
     "iopub.status.idle": "2023-08-02T11:35:55.22629Z",
     "shell.execute_reply": "2023-08-02T11:35:55.225061Z",
     "shell.execute_reply.started": "2023-08-02T11:35:46.482572Z"
    }
   },
   "outputs": [],
   "source": [
    "# Evaluating test metrics\n",
    "test_metrics, test_map50=evaluate_map50(model, config_path, dataset='test')"
   ]
  },
  {
   "cell_type": "markdown",
   "metadata": {},
   "source": [
    "##### Path storing model's performance on test dataset"
   ]
  },
  {
   "cell_type": "code",
   "execution_count": null,
   "metadata": {
    "execution": {
     "iopub.execute_input": "2023-08-02T11:36:03.58664Z",
     "iopub.status.busy": "2023-08-02T11:36:03.58623Z",
     "iopub.status.idle": "2023-08-02T11:36:03.594954Z",
     "shell.execute_reply": "2023-08-02T11:36:03.593633Z",
     "shell.execute_reply.started": "2023-08-02T11:36:03.586601Z"
    }
   },
   "outputs": [],
   "source": [
    "test_path=os.path.join(curr_path, 'runs', 'detect', 'val3') #val3 is a misnomer, it is actually measuring validation on test dataset"
   ]
  },
  {
   "cell_type": "code",
   "execution_count": null,
   "metadata": {
    "execution": {
     "iopub.execute_input": "2023-08-02T11:36:40.492079Z",
     "iopub.status.busy": "2023-08-02T11:36:40.490902Z",
     "iopub.status.idle": "2023-08-02T11:36:46.641578Z",
     "shell.execute_reply": "2023-08-02T11:36:46.64019Z",
     "shell.execute_reply.started": "2023-08-02T11:36:40.49204Z"
    }
   },
   "outputs": [],
   "source": [
    "# Display plots on test data\n",
    "display_curves(test_path) "
   ]
  },
  {
   "cell_type": "markdown",
   "metadata": {},
   "source": [
    "# Visualizing model's performance on random test images"
   ]
  },
  {
   "cell_type": "code",
   "execution_count": null,
   "metadata": {
    "execution": {
     "iopub.execute_input": "2023-08-02T13:34:39.938995Z",
     "iopub.status.busy": "2023-08-02T13:34:39.938264Z",
     "iopub.status.idle": "2023-08-02T13:34:52.675546Z",
     "shell.execute_reply": "2023-08-02T13:34:52.674276Z",
     "shell.execute_reply.started": "2023-08-02T13:34:39.938957Z"
    }
   },
   "outputs": [],
   "source": [
    "plt.figure(figsize=(60,60))\n",
    "m=random.randint(0, 150) # Selecting random image number\n",
    "for i in range(1,8,2):\n",
    "    test_image=os.path.join(imgtestpath, os.listdir(imgtestpath)[m])\n",
    "    ax=plt.subplot(4,2,i)\n",
    "    \n",
    "    # Display actual image\n",
    "    plt.imshow(cv2.imread(test_image)) \n",
    "    plt.xticks([])\n",
    "    plt.yticks([])\n",
    "    plt.title(\"Actual image\", fontsize = 40)\n",
    "    \n",
    "    # Predict \n",
    "    res = model(test_image)\n",
    "    res_plotted = res[0].plot()\n",
    "    ax=plt.subplot(4,2,i+1)\n",
    "    \n",
    "    # Display image with predictions\n",
    "    plt.imshow(res_plotted)\n",
    "    plt.title(\"Image with predictions\", fontsize = 40)\n",
    "    plt.xticks([])\n",
    "    plt.yticks([])\n",
    "    m=m+1"
   ]
  },
  {
   "cell_type": "markdown",
   "metadata": {
    "execution": {
     "iopub.execute_input": "2023-08-02T13:24:31.109508Z",
     "iopub.status.busy": "2023-08-02T13:24:31.109099Z",
     "iopub.status.idle": "2023-08-02T13:24:31.118845Z",
     "shell.execute_reply": "2023-08-02T13:24:31.117577Z",
     "shell.execute_reply.started": "2023-08-02T13:24:31.109471Z"
    }
   },
   "source": [
    "#### So,we see that model detects faces quite nicely. With more data and more training, it can do better"
   ]
  }
 ],
 "metadata": {
  "kaggle": {
   "accelerator": "gpu",
   "dataSources": [
    {
     "datasetId": 3119215,
     "sourceId": 5377440,
     "sourceType": "datasetVersion"
    }
   ],
   "dockerImageVersionId": 30528,
   "isGpuEnabled": true,
   "isInternetEnabled": true,
   "language": "python",
   "sourceType": "notebook"
  },
  "kernelspec": {
   "display_name": "Python 3 (ipykernel)",
   "language": "python",
   "name": "python3"
  },
  "language_info": {
   "codemirror_mode": {
    "name": "ipython",
    "version": 3
   },
   "file_extension": ".py",
   "mimetype": "text/x-python",
   "name": "python",
   "nbconvert_exporter": "python",
   "pygments_lexer": "ipython3",
   "version": "3.11.5"
  }
 },
 "nbformat": 4,
 "nbformat_minor": 4
}
