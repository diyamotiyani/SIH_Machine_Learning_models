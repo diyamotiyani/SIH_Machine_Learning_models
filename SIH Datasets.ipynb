{
 "cells": [
  {
   "cell_type": "raw",
   "id": "5638bd63-c2e0-4c7c-8ddf-3281ca56fc14",
   "metadata": {},
   "source": [
    "Human Face detection dataset:\n",
    "https://www.kaggle.com/datasets/sbaghbidi/human-faces-object-detection\n",
    "\n",
    "Hyperspectral Library of Agricultural Crops (USGS) dataset:\n",
    "https://www.kaggle.com/datasets/billbasener/hyperspectral-library-of-agricultural-crops-usgs\n",
    "\n",
    "Apple Disease Dataset dataset:\n",
    "https://www.kaggle.com/datasets/ludehsar/apple-disease-dataset\n",
    "\n",
    "Multiple fruit dataset:\n",
    "https://www.kaggle.com/datasets/moltean/fruits\n",
    "\n",
    "Fertilizer prediction dataset:\n",
    "https://www.kaggle.com/datasets/gdabhishek/fertilizer-prediction"
   ]
  }
 ],
 "metadata": {
  "kernelspec": {
   "display_name": "Python 3 (ipykernel)",
   "language": "python",
   "name": "python3"
  },
  "language_info": {
   "codemirror_mode": {
    "name": "ipython",
    "version": 3
   },
   "file_extension": ".py",
   "mimetype": "text/x-python",
   "name": "python",
   "nbconvert_exporter": "python",
   "pygments_lexer": "ipython3",
   "version": "3.11.5"
  }
 },
 "nbformat": 4,
 "nbformat_minor": 5
}
